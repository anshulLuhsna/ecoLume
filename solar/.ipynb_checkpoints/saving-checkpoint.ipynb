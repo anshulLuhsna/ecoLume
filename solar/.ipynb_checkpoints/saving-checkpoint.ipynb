{
 "cells": [
  {
   "cell_type": "code",
   "execution_count": 9,
   "id": "131946dd-b073-42f6-9319-ecb385ccee86",
   "metadata": {},
   "outputs": [
    {
     "data": {
      "text/html": [
       "<div>\n",
       "<style scoped>\n",
       "    .dataframe tbody tr th:only-of-type {\n",
       "        vertical-align: middle;\n",
       "    }\n",
       "\n",
       "    .dataframe tbody tr th {\n",
       "        vertical-align: top;\n",
       "    }\n",
       "\n",
       "    .dataframe thead th {\n",
       "        text-align: right;\n",
       "    }\n",
       "</style>\n",
       "<table border=\"1\" class=\"dataframe\">\n",
       "  <thead>\n",
       "    <tr style=\"text-align: right;\">\n",
       "      <th></th>\n",
       "      <th>Unnamed: 0</th>\n",
       "      <th>InstallationID</th>\n",
       "      <th>InstallationType</th>\n",
       "      <th>PanelType</th>\n",
       "      <th>Capacity (kW)</th>\n",
       "      <th>EnergyProduced (kWh)</th>\n",
       "      <th>MaintenanceFrequency (months)</th>\n",
       "      <th>Cost (₹)</th>\n",
       "      <th>Region</th>\n",
       "      <th>Latitude</th>\n",
       "      <th>Longitude</th>\n",
       "      <th>TypeOfInstallation</th>\n",
       "      <th>InstallerName</th>\n",
       "      <th>WarrantyYears</th>\n",
       "      <th>AnnualSavings (₹)</th>\n",
       "    </tr>\n",
       "  </thead>\n",
       "  <tbody>\n",
       "    <tr>\n",
       "      <th>0</th>\n",
       "      <td>0</td>\n",
       "      <td>S001</td>\n",
       "      <td>2</td>\n",
       "      <td>0</td>\n",
       "      <td>5</td>\n",
       "      <td>600</td>\n",
       "      <td>12</td>\n",
       "      <td>50000</td>\n",
       "      <td>4</td>\n",
       "      <td>19.0760</td>\n",
       "      <td>72.8777</td>\n",
       "      <td>1</td>\n",
       "      <td>2</td>\n",
       "      <td>25</td>\n",
       "      <td>8000</td>\n",
       "    </tr>\n",
       "    <tr>\n",
       "      <th>1</th>\n",
       "      <td>1</td>\n",
       "      <td>S003</td>\n",
       "      <td>2</td>\n",
       "      <td>2</td>\n",
       "      <td>80</td>\n",
       "      <td>10500</td>\n",
       "      <td>5</td>\n",
       "      <td>576418</td>\n",
       "      <td>6</td>\n",
       "      <td>10.8505</td>\n",
       "      <td>75.7837</td>\n",
       "      <td>0</td>\n",
       "      <td>0</td>\n",
       "      <td>21</td>\n",
       "      <td>126416</td>\n",
       "    </tr>\n",
       "    <tr>\n",
       "      <th>2</th>\n",
       "      <td>2</td>\n",
       "      <td>S010</td>\n",
       "      <td>0</td>\n",
       "      <td>1</td>\n",
       "      <td>57</td>\n",
       "      <td>6330</td>\n",
       "      <td>6</td>\n",
       "      <td>272176</td>\n",
       "      <td>7</td>\n",
       "      <td>22.1553</td>\n",
       "      <td>75.2947</td>\n",
       "      <td>0</td>\n",
       "      <td>2</td>\n",
       "      <td>20</td>\n",
       "      <td>70083</td>\n",
       "    </tr>\n",
       "    <tr>\n",
       "      <th>3</th>\n",
       "      <td>3</td>\n",
       "      <td>S010</td>\n",
       "      <td>2</td>\n",
       "      <td>0</td>\n",
       "      <td>17</td>\n",
       "      <td>2215</td>\n",
       "      <td>24</td>\n",
       "      <td>67349</td>\n",
       "      <td>2</td>\n",
       "      <td>13.2881</td>\n",
       "      <td>74.3315</td>\n",
       "      <td>0</td>\n",
       "      <td>3</td>\n",
       "      <td>24</td>\n",
       "      <td>24414</td>\n",
       "    </tr>\n",
       "    <tr>\n",
       "      <th>4</th>\n",
       "      <td>4</td>\n",
       "      <td>S006</td>\n",
       "      <td>1</td>\n",
       "      <td>2</td>\n",
       "      <td>81</td>\n",
       "      <td>10326</td>\n",
       "      <td>7</td>\n",
       "      <td>462437</td>\n",
       "      <td>9</td>\n",
       "      <td>16.2721</td>\n",
       "      <td>74.9504</td>\n",
       "      <td>1</td>\n",
       "      <td>0</td>\n",
       "      <td>23</td>\n",
       "      <td>119776</td>\n",
       "    </tr>\n",
       "  </tbody>\n",
       "</table>\n",
       "</div>"
      ],
      "text/plain": [
       "   Unnamed: 0   InstallationID    InstallationType    PanelType        \\\n",
       "0           0   S001                              2                 0   \n",
       "1           1   S003                              2                 2   \n",
       "2           2   S010                              0                 1   \n",
       "3           3   S010                              2                 0   \n",
       "4           4   S006                              1                 2   \n",
       "\n",
       "    Capacity (kW)    EnergyProduced (kWh)    MaintenanceFrequency (months)   \\\n",
       "0                5                     600                               12   \n",
       "1               80                   10500                                5   \n",
       "2               57                    6330                                6   \n",
       "3               17                    2215                               24   \n",
       "4               81                   10326                                7   \n",
       "\n",
       "    Cost (₹)    Region           Latitude    Longitude   \\\n",
       "0       50000                4     19.0760      72.8777   \n",
       "1      576418                6     10.8505      75.7837   \n",
       "2      272176                7     22.1553      75.2947   \n",
       "3       67349                2     13.2881      74.3315   \n",
       "4      462437                9     16.2721      74.9504   \n",
       "\n",
       "    TypeOfInstallation        InstallerName     WarrantyYears   \\\n",
       "0                         1                 2               25   \n",
       "1                         0                 0               21   \n",
       "2                         0                 2               20   \n",
       "3                         0                 3               24   \n",
       "4                         1                 0               23   \n",
       "\n",
       "    AnnualSavings (₹)   \n",
       "0                 8000  \n",
       "1               126416  \n",
       "2                70083  \n",
       "3                24414  \n",
       "4               119776  "
      ]
     },
     "execution_count": 9,
     "metadata": {},
     "output_type": "execute_result"
    }
   ],
   "source": [
    "import numpy as np\n",
    "import pandas as pd\n",
    "from sklearn.ensemble import RandomForestRegressor\n",
    "import pickle\n",
    "\n",
    "dataset = pd.read_csv('Solar.csv')\n",
    "dataset.head()"
   ]
  },
  {
   "cell_type": "code",
   "execution_count": 10,
   "id": "6349b17d-ce37-410e-b439-18ff370e3db3",
   "metadata": {},
   "outputs": [],
   "source": [
    "#inputs= InstallationType,Panel type,Capacity, Maintainence frequency, Region,Type of installation,Installername,Warranty\n",
    "\n",
    "#output=Annual Saving\n",
    "\n",
    "X = dataset.iloc[:, [2,3,4,6,7,8,11,12,13]].values\n",
    "y = dataset.iloc[:, -1].values"
   ]
  },
  {
   "cell_type": "code",
   "execution_count": 11,
   "id": "64e28381-0bce-4fab-86e6-d06d96ba49c9",
   "metadata": {},
   "outputs": [
    {
     "name": "stdout",
     "output_type": "stream",
     "text": [
      "Target Column:  AnnualSavings (₹) \n"
     ]
    }
   ],
   "source": [
    "target_column = dataset.columns[-1]\n",
    "print(\"Target Column:\", target_column)\n"
   ]
  },
  {
   "cell_type": "code",
   "execution_count": 12,
   "id": "bf5a32f8-25c8-4078-ad8c-dedbb6aad019",
   "metadata": {},
   "outputs": [
    {
     "data": {
      "text/plain": [
       "array([    2,     0,     5,    12, 50000,     4,     1,     2,    25],\n",
       "      dtype=int64)"
      ]
     },
     "execution_count": 12,
     "metadata": {},
     "output_type": "execute_result"
    }
   ],
   "source": [
    "# selected_columns = dataset.columns[[2, 3, 4, 6, 7, 8, 11, 12, 13]]\n",
    "# print(\"Selected Columns:\", selected_columns)\n",
    "X[0]"
   ]
  },
  {
   "cell_type": "code",
   "execution_count": 13,
   "id": "09fbabf1-2e8f-4133-809d-e8bba4fc2d1e",
   "metadata": {},
   "outputs": [
    {
     "data": {
      "text/html": [
       "<style>#sk-container-id-2 {color: black;}#sk-container-id-2 pre{padding: 0;}#sk-container-id-2 div.sk-toggleable {background-color: white;}#sk-container-id-2 label.sk-toggleable__label {cursor: pointer;display: block;width: 100%;margin-bottom: 0;padding: 0.3em;box-sizing: border-box;text-align: center;}#sk-container-id-2 label.sk-toggleable__label-arrow:before {content: \"▸\";float: left;margin-right: 0.25em;color: #696969;}#sk-container-id-2 label.sk-toggleable__label-arrow:hover:before {color: black;}#sk-container-id-2 div.sk-estimator:hover label.sk-toggleable__label-arrow:before {color: black;}#sk-container-id-2 div.sk-toggleable__content {max-height: 0;max-width: 0;overflow: hidden;text-align: left;background-color: #f0f8ff;}#sk-container-id-2 div.sk-toggleable__content pre {margin: 0.2em;color: black;border-radius: 0.25em;background-color: #f0f8ff;}#sk-container-id-2 input.sk-toggleable__control:checked~div.sk-toggleable__content {max-height: 200px;max-width: 100%;overflow: auto;}#sk-container-id-2 input.sk-toggleable__control:checked~label.sk-toggleable__label-arrow:before {content: \"▾\";}#sk-container-id-2 div.sk-estimator input.sk-toggleable__control:checked~label.sk-toggleable__label {background-color: #d4ebff;}#sk-container-id-2 div.sk-label input.sk-toggleable__control:checked~label.sk-toggleable__label {background-color: #d4ebff;}#sk-container-id-2 input.sk-hidden--visually {border: 0;clip: rect(1px 1px 1px 1px);clip: rect(1px, 1px, 1px, 1px);height: 1px;margin: -1px;overflow: hidden;padding: 0;position: absolute;width: 1px;}#sk-container-id-2 div.sk-estimator {font-family: monospace;background-color: #f0f8ff;border: 1px dotted black;border-radius: 0.25em;box-sizing: border-box;margin-bottom: 0.5em;}#sk-container-id-2 div.sk-estimator:hover {background-color: #d4ebff;}#sk-container-id-2 div.sk-parallel-item::after {content: \"\";width: 100%;border-bottom: 1px solid gray;flex-grow: 1;}#sk-container-id-2 div.sk-label:hover label.sk-toggleable__label {background-color: #d4ebff;}#sk-container-id-2 div.sk-serial::before {content: \"\";position: absolute;border-left: 1px solid gray;box-sizing: border-box;top: 0;bottom: 0;left: 50%;z-index: 0;}#sk-container-id-2 div.sk-serial {display: flex;flex-direction: column;align-items: center;background-color: white;padding-right: 0.2em;padding-left: 0.2em;position: relative;}#sk-container-id-2 div.sk-item {position: relative;z-index: 1;}#sk-container-id-2 div.sk-parallel {display: flex;align-items: stretch;justify-content: center;background-color: white;position: relative;}#sk-container-id-2 div.sk-item::before, #sk-container-id-2 div.sk-parallel-item::before {content: \"\";position: absolute;border-left: 1px solid gray;box-sizing: border-box;top: 0;bottom: 0;left: 50%;z-index: -1;}#sk-container-id-2 div.sk-parallel-item {display: flex;flex-direction: column;z-index: 1;position: relative;background-color: white;}#sk-container-id-2 div.sk-parallel-item:first-child::after {align-self: flex-end;width: 50%;}#sk-container-id-2 div.sk-parallel-item:last-child::after {align-self: flex-start;width: 50%;}#sk-container-id-2 div.sk-parallel-item:only-child::after {width: 0;}#sk-container-id-2 div.sk-dashed-wrapped {border: 1px dashed gray;margin: 0 0.4em 0.5em 0.4em;box-sizing: border-box;padding-bottom: 0.4em;background-color: white;}#sk-container-id-2 div.sk-label label {font-family: monospace;font-weight: bold;display: inline-block;line-height: 1.2em;}#sk-container-id-2 div.sk-label-container {text-align: center;}#sk-container-id-2 div.sk-container {/* jupyter's `normalize.less` sets `[hidden] { display: none; }` but bootstrap.min.css set `[hidden] { display: none !important; }` so we also need the `!important` here to be able to override the default hidden behavior on the sphinx rendered scikit-learn.org. See: https://github.com/scikit-learn/scikit-learn/issues/21755 */display: inline-block !important;position: relative;}#sk-container-id-2 div.sk-text-repr-fallback {display: none;}</style><div id=\"sk-container-id-2\" class=\"sk-top-container\"><div class=\"sk-text-repr-fallback\"><pre>RandomForestRegressor(random_state=0)</pre><b>In a Jupyter environment, please rerun this cell to show the HTML representation or trust the notebook. <br />On GitHub, the HTML representation is unable to render, please try loading this page with nbviewer.org.</b></div><div class=\"sk-container\" hidden><div class=\"sk-item\"><div class=\"sk-estimator sk-toggleable\"><input class=\"sk-toggleable__control sk-hidden--visually\" id=\"sk-estimator-id-2\" type=\"checkbox\" checked><label for=\"sk-estimator-id-2\" class=\"sk-toggleable__label sk-toggleable__label-arrow\">RandomForestRegressor</label><div class=\"sk-toggleable__content\"><pre>RandomForestRegressor(random_state=0)</pre></div></div></div></div></div>"
      ],
      "text/plain": [
       "RandomForestRegressor(random_state=0)"
      ]
     },
     "execution_count": 13,
     "metadata": {},
     "output_type": "execute_result"
    }
   ],
   "source": [
    "regressor = RandomForestRegressor(n_estimators=100, random_state=0)\n",
    "regressor.fit(X, y)"
   ]
  },
  {
   "cell_type": "code",
   "execution_count": 14,
   "id": "c73d680a-a2d5-4f3d-b931-a44e9b9653d2",
   "metadata": {},
   "outputs": [],
   "source": [
    "with open('solar_model.pkl', 'wb') as model_file:\n",
    "    pickle.dump(regressor, model_file)"
   ]
  },
  {
   "cell_type": "code",
   "execution_count": 15,
   "id": "8913e27a-55e5-4286-b3f9-688191f1d775",
   "metadata": {},
   "outputs": [],
   "source": [
    "def predict(para):\n",
    "    predictions = regressor.predict([para])\n",
    "    response = int(predictions[0])\n",
    "    break_even= para[4]/response\n",
    "    return response,break_even"
   ]
  },
  {
   "cell_type": "code",
   "execution_count": 16,
   "id": "38474a30-e6fa-4783-908b-317f80cc89f0",
   "metadata": {},
   "outputs": [
    {
     "name": "stdout",
     "output_type": "stream",
     "text": [
      "Anual Savings: 10955\n",
      "Break even point (years): 4.564125969876769\n"
     ]
    }
   ],
   "source": [
    "input_attributes = [2,0,5,12,50000,4,1,2,25]\n",
    "result,break_even = predict(input_attributes)\n",
    "\n",
    "print(\"Anual Savings:\", result)\n",
    "print(\"Break even point (years):\", break_even)"
   ]
  },
  {
   "cell_type": "code",
   "execution_count": null,
   "id": "e7ddf28e-5d42-4328-ab07-dfcbc1da0b45",
   "metadata": {},
   "outputs": [],
   "source": []
  },
  {
   "cell_type": "code",
   "execution_count": null,
   "id": "19683582-24f2-45db-aa57-7e7d8901484d",
   "metadata": {},
   "outputs": [],
   "source": []
  }
 ],
 "metadata": {
  "kernelspec": {
   "display_name": "Python 3 (ipykernel)",
   "language": "python",
   "name": "python3"
  },
  "language_info": {
   "codemirror_mode": {
    "name": "ipython",
    "version": 3
   },
   "file_extension": ".py",
   "mimetype": "text/x-python",
   "name": "python",
   "nbconvert_exporter": "python",
   "pygments_lexer": "ipython3",
   "version": "3.11.3"
  }
 },
 "nbformat": 4,
 "nbformat_minor": 5
}
