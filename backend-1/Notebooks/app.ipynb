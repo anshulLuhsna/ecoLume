{
 "cells": [
  {
   "cell_type": "code",
   "execution_count": 2,
   "id": "5b850e2d-2c9c-4b9e-b095-29c2f3d3cce6",
   "metadata": {},
   "outputs": [],
   "source": [
    "import pandas as pd\n",
    "import plotly.graph_objects as go\n",
    "import numpy as np"
   ]
  },
  {
   "cell_type": "code",
   "execution_count": 4,
   "id": "647a4f3e-9445-475a-9df4-1267f22c6b46",
   "metadata": {},
   "outputs": [],
   "source": [
    "df = pd.read_csv(r\"D:\\Optimizing-Household-Electricity-through-Machine-Learning-main\\Datasets\\electricity_data.csv\")"
   ]
  },
  {
   "cell_type": "code",
   "execution_count": 5,
   "id": "40c32bb6-7d50-47bd-af5e-671f2ccc8750",
   "metadata": {},
   "outputs": [
    {
     "data": {
      "text/html": [
       "<div>\n",
       "<style scoped>\n",
       "    .dataframe tbody tr th:only-of-type {\n",
       "        vertical-align: middle;\n",
       "    }\n",
       "\n",
       "    .dataframe tbody tr th {\n",
       "        vertical-align: top;\n",
       "    }\n",
       "\n",
       "    .dataframe thead th {\n",
       "        text-align: right;\n",
       "    }\n",
       "</style>\n",
       "<table border=\"1\" class=\"dataframe\">\n",
       "  <thead>\n",
       "    <tr style=\"text-align: right;\">\n",
       "      <th></th>\n",
       "      <th>Date</th>\n",
       "      <th>Total_Consumption</th>\n",
       "    </tr>\n",
       "  </thead>\n",
       "  <tbody>\n",
       "    <tr>\n",
       "      <th>0</th>\n",
       "      <td>2017-12-16</td>\n",
       "      <td>5.7</td>\n",
       "    </tr>\n",
       "    <tr>\n",
       "      <th>1</th>\n",
       "      <td>2017-12-17</td>\n",
       "      <td>20.6</td>\n",
       "    </tr>\n",
       "    <tr>\n",
       "      <th>2</th>\n",
       "      <td>2017-12-18</td>\n",
       "      <td>12.9</td>\n",
       "    </tr>\n",
       "    <tr>\n",
       "      <th>3</th>\n",
       "      <td>2017-12-19</td>\n",
       "      <td>15.5</td>\n",
       "    </tr>\n",
       "    <tr>\n",
       "      <th>4</th>\n",
       "      <td>2017-12-20</td>\n",
       "      <td>12.0</td>\n",
       "    </tr>\n",
       "  </tbody>\n",
       "</table>\n",
       "</div>"
      ],
      "text/plain": [
       "         Date  Total_Consumption\n",
       "0  2017-12-16                5.7\n",
       "1  2017-12-17               20.6\n",
       "2  2017-12-18               12.9\n",
       "3  2017-12-19               15.5\n",
       "4  2017-12-20               12.0"
      ]
     },
     "execution_count": 5,
     "metadata": {},
     "output_type": "execute_result"
    }
   ],
   "source": [
    "df.head()"
   ]
  },
  {
   "cell_type": "code",
   "execution_count": 6,
   "id": "e7a0745f-191e-4566-bfa6-bc5f3749d078",
   "metadata": {},
   "outputs": [
    {
     "data": {
      "text/plain": [
       "(1313, 2)"
      ]
     },
     "execution_count": 6,
     "metadata": {},
     "output_type": "execute_result"
    }
   ],
   "source": [
    "df.shape"
   ]
  },
  {
   "cell_type": "code",
   "execution_count": 7,
   "id": "b702fb16-d462-409f-a4b5-acd602c97208",
   "metadata": {},
   "outputs": [
    {
     "data": {
      "text/html": [
       "<div>\n",
       "<style scoped>\n",
       "    .dataframe tbody tr th:only-of-type {\n",
       "        vertical-align: middle;\n",
       "    }\n",
       "\n",
       "    .dataframe tbody tr th {\n",
       "        vertical-align: top;\n",
       "    }\n",
       "\n",
       "    .dataframe thead th {\n",
       "        text-align: right;\n",
       "    }\n",
       "</style>\n",
       "<table border=\"1\" class=\"dataframe\">\n",
       "  <thead>\n",
       "    <tr style=\"text-align: right;\">\n",
       "      <th></th>\n",
       "      <th>Date</th>\n",
       "      <th>Total_Consumption</th>\n",
       "    </tr>\n",
       "  </thead>\n",
       "  <tbody>\n",
       "    <tr>\n",
       "      <th>1110</th>\n",
       "      <td>2021-01-01</td>\n",
       "      <td>7.7</td>\n",
       "    </tr>\n",
       "    <tr>\n",
       "      <th>1111</th>\n",
       "      <td>2021-01-02</td>\n",
       "      <td>8.5</td>\n",
       "    </tr>\n",
       "    <tr>\n",
       "      <th>1112</th>\n",
       "      <td>2021-01-03</td>\n",
       "      <td>7.7</td>\n",
       "    </tr>\n",
       "    <tr>\n",
       "      <th>1113</th>\n",
       "      <td>2021-01-04</td>\n",
       "      <td>9.3</td>\n",
       "    </tr>\n",
       "    <tr>\n",
       "      <th>1114</th>\n",
       "      <td>2021-01-05</td>\n",
       "      <td>12.5</td>\n",
       "    </tr>\n",
       "  </tbody>\n",
       "</table>\n",
       "</div>"
      ],
      "text/plain": [
       "            Date  Total_Consumption\n",
       "1110  2021-01-01                7.7\n",
       "1111  2021-01-02                8.5\n",
       "1112  2021-01-03                7.7\n",
       "1113  2021-01-04                9.3\n",
       "1114  2021-01-05               12.5"
      ]
     },
     "execution_count": 7,
     "metadata": {},
     "output_type": "execute_result"
    }
   ],
   "source": [
    "df = df[1110:]\n",
    "df.head()"
   ]
  },
  {
   "cell_type": "code",
   "execution_count": 9,
   "id": "74577e56-22e7-41a2-8021-d02c4bbcf03b",
   "metadata": {},
   "outputs": [
    {
     "data": {
      "text/html": [
       "<div>\n",
       "<style scoped>\n",
       "    .dataframe tbody tr th:only-of-type {\n",
       "        vertical-align: middle;\n",
       "    }\n",
       "\n",
       "    .dataframe tbody tr th {\n",
       "        vertical-align: top;\n",
       "    }\n",
       "\n",
       "    .dataframe thead th {\n",
       "        text-align: right;\n",
       "    }\n",
       "</style>\n",
       "<table border=\"1\" class=\"dataframe\">\n",
       "  <thead>\n",
       "    <tr style=\"text-align: right;\">\n",
       "      <th></th>\n",
       "      <th>Date</th>\n",
       "      <th>Total_Consumption</th>\n",
       "    </tr>\n",
       "    <tr>\n",
       "      <th>Date</th>\n",
       "      <th></th>\n",
       "      <th></th>\n",
       "    </tr>\n",
       "  </thead>\n",
       "  <tbody>\n",
       "    <tr>\n",
       "      <th>2021-01-01</th>\n",
       "      <td>2021-01-01</td>\n",
       "      <td>7.7</td>\n",
       "    </tr>\n",
       "    <tr>\n",
       "      <th>2021-01-02</th>\n",
       "      <td>2021-01-02</td>\n",
       "      <td>8.5</td>\n",
       "    </tr>\n",
       "    <tr>\n",
       "      <th>2021-01-03</th>\n",
       "      <td>2021-01-03</td>\n",
       "      <td>7.7</td>\n",
       "    </tr>\n",
       "    <tr>\n",
       "      <th>2021-01-04</th>\n",
       "      <td>2021-01-04</td>\n",
       "      <td>9.3</td>\n",
       "    </tr>\n",
       "    <tr>\n",
       "      <th>2021-01-05</th>\n",
       "      <td>2021-01-05</td>\n",
       "      <td>12.5</td>\n",
       "    </tr>\n",
       "  </tbody>\n",
       "</table>\n",
       "</div>"
      ],
      "text/plain": [
       "                  Date  Total_Consumption\n",
       "Date                                     \n",
       "2021-01-01  2021-01-01                7.7\n",
       "2021-01-02  2021-01-02                8.5\n",
       "2021-01-03  2021-01-03                7.7\n",
       "2021-01-04  2021-01-04                9.3\n",
       "2021-01-05  2021-01-05               12.5"
      ]
     },
     "execution_count": 9,
     "metadata": {},
     "output_type": "execute_result"
    }
   ],
   "source": [
    "df.reset_index(drop=True, inplace=True)\n",
    "df.index = pd.to_datetime(df['Date'])\n",
    "df.head()\n",
    "\n",
    "#considering 2021 from january"
   ]
  },
  {
   "cell_type": "code",
   "execution_count": 15,
   "id": "5b3bd98d-085c-4c4a-bb95-e2913d0f22bf",
   "metadata": {},
   "outputs": [
    {
     "data": {
      "text/plain": [
       "(44, 8)"
      ]
     },
     "execution_count": 15,
     "metadata": {},
     "output_type": "execute_result"
    }
   ],
   "source": [
    "df2 = pd.read_csv(r\"D:\\Optimizing-Household-Electricity-through-Machine-Learning-main\\Datasets\\electrical_appliance_consumption.csv\")\n",
    "df2.shape"
   ]
  },
  {
   "cell_type": "code",
   "execution_count": 16,
   "id": "fb6ca5d9-0a15-42a0-9dee-6b3c6a30a521",
   "metadata": {},
   "outputs": [
    {
     "data": {
      "text/html": [
       "<div>\n",
       "<style scoped>\n",
       "    .dataframe tbody tr th:only-of-type {\n",
       "        vertical-align: middle;\n",
       "    }\n",
       "\n",
       "    .dataframe tbody tr th {\n",
       "        vertical-align: top;\n",
       "    }\n",
       "\n",
       "    .dataframe thead th {\n",
       "        text-align: right;\n",
       "    }\n",
       "</style>\n",
       "<table border=\"1\" class=\"dataframe\">\n",
       "  <thead>\n",
       "    <tr style=\"text-align: right;\">\n",
       "      <th></th>\n",
       "      <th>month</th>\n",
       "      <th>year</th>\n",
       "      <th>Fridge</th>\n",
       "      <th>AC</th>\n",
       "      <th>Kitchen Appliances</th>\n",
       "      <th>Washing Machine</th>\n",
       "      <th>Other Appliances</th>\n",
       "      <th>Total_Consumption</th>\n",
       "    </tr>\n",
       "  </thead>\n",
       "  <tbody>\n",
       "    <tr>\n",
       "      <th>0</th>\n",
       "      <td>Jan</td>\n",
       "      <td>2021</td>\n",
       "      <td>20.1</td>\n",
       "      <td>0.0</td>\n",
       "      <td>43.8</td>\n",
       "      <td>18.5</td>\n",
       "      <td>17.6</td>\n",
       "      <td>2625.5</td>\n",
       "    </tr>\n",
       "    <tr>\n",
       "      <th>1</th>\n",
       "      <td>Feb</td>\n",
       "      <td>2021</td>\n",
       "      <td>19.6</td>\n",
       "      <td>0.0</td>\n",
       "      <td>42.6</td>\n",
       "      <td>17.6</td>\n",
       "      <td>20.2</td>\n",
       "      <td>2298.6</td>\n",
       "    </tr>\n",
       "    <tr>\n",
       "      <th>2</th>\n",
       "      <td>Mar</td>\n",
       "      <td>2021</td>\n",
       "      <td>13.9</td>\n",
       "      <td>24.4</td>\n",
       "      <td>30.8</td>\n",
       "      <td>11.8</td>\n",
       "      <td>19.1</td>\n",
       "      <td>3454.2</td>\n",
       "    </tr>\n",
       "    <tr>\n",
       "      <th>3</th>\n",
       "      <td>Apr</td>\n",
       "      <td>2021</td>\n",
       "      <td>12.3</td>\n",
       "      <td>38.3</td>\n",
       "      <td>27.1</td>\n",
       "      <td>10.3</td>\n",
       "      <td>12.0</td>\n",
       "      <td>3528.3</td>\n",
       "    </tr>\n",
       "    <tr>\n",
       "      <th>4</th>\n",
       "      <td>May</td>\n",
       "      <td>2021</td>\n",
       "      <td>12.3</td>\n",
       "      <td>36.3</td>\n",
       "      <td>27.4</td>\n",
       "      <td>13.9</td>\n",
       "      <td>10.2</td>\n",
       "      <td>3787.3</td>\n",
       "    </tr>\n",
       "  </tbody>\n",
       "</table>\n",
       "</div>"
      ],
      "text/plain": [
       "  month  year  Fridge    AC  Kitchen Appliances  Washing Machine  \\\n",
       "0   Jan  2021    20.1   0.0                43.8             18.5   \n",
       "1   Feb  2021    19.6   0.0                42.6             17.6   \n",
       "2   Mar  2021    13.9  24.4                30.8             11.8   \n",
       "3   Apr  2021    12.3  38.3                27.1             10.3   \n",
       "4   May  2021    12.3  36.3                27.4             13.9   \n",
       "\n",
       "   Other Appliances  Total_Consumption  \n",
       "0              17.6             2625.5  \n",
       "1              20.2             2298.6  \n",
       "2              19.1             3454.2  \n",
       "3              12.0             3528.3  \n",
       "4              10.2             3787.3  "
      ]
     },
     "execution_count": 16,
     "metadata": {},
     "output_type": "execute_result"
    }
   ],
   "source": [
    "df2 = df2[df2['year'] == 2021]\n",
    "df2.reset_index(drop=True, inplace=True)\n",
    "df2.head()"
   ]
  },
  {
   "cell_type": "code",
   "execution_count": 17,
   "id": "a1e3020f-a323-4845-8c19-ae7dd83f6dbb",
   "metadata": {},
   "outputs": [
    {
     "data": {
      "text/plain": [
       "(7, 8)"
      ]
     },
     "execution_count": 17,
     "metadata": {},
     "output_type": "execute_result"
    }
   ],
   "source": [
    "df2.shape"
   ]
  },
  {
   "cell_type": "code",
   "execution_count": 19,
   "id": "90f4769c-4579-43ee-8a8e-8bb250e9397c",
   "metadata": {},
   "outputs": [
    {
     "data": {
      "text/html": [
       "<div>\n",
       "<style scoped>\n",
       "    .dataframe tbody tr th:only-of-type {\n",
       "        vertical-align: middle;\n",
       "    }\n",
       "\n",
       "    .dataframe tbody tr th {\n",
       "        vertical-align: top;\n",
       "    }\n",
       "\n",
       "    .dataframe thead th {\n",
       "        text-align: right;\n",
       "    }\n",
       "</style>\n",
       "<table border=\"1\" class=\"dataframe\">\n",
       "  <thead>\n",
       "    <tr style=\"text-align: right;\">\n",
       "      <th></th>\n",
       "      <th>Date</th>\n",
       "      <th>Total_Consumption</th>\n",
       "      <th>Predicted_Consumption</th>\n",
       "      <th>MAE</th>\n",
       "    </tr>\n",
       "  </thead>\n",
       "  <tbody>\n",
       "    <tr>\n",
       "      <th>0</th>\n",
       "      <td>2021-05-09</td>\n",
       "      <td>44.1</td>\n",
       "      <td>28.343788</td>\n",
       "      <td>15.756212</td>\n",
       "    </tr>\n",
       "    <tr>\n",
       "      <th>1</th>\n",
       "      <td>2021-05-10</td>\n",
       "      <td>48.3</td>\n",
       "      <td>59.778455</td>\n",
       "      <td>-11.478455</td>\n",
       "    </tr>\n",
       "    <tr>\n",
       "      <th>2</th>\n",
       "      <td>2021-05-11</td>\n",
       "      <td>37.8</td>\n",
       "      <td>41.435079</td>\n",
       "      <td>-3.635079</td>\n",
       "    </tr>\n",
       "    <tr>\n",
       "      <th>3</th>\n",
       "      <td>2021-05-13</td>\n",
       "      <td>41.7</td>\n",
       "      <td>40.993073</td>\n",
       "      <td>0.706927</td>\n",
       "    </tr>\n",
       "    <tr>\n",
       "      <th>4</th>\n",
       "      <td>2021-05-14</td>\n",
       "      <td>37.8</td>\n",
       "      <td>40.834960</td>\n",
       "      <td>-3.034960</td>\n",
       "    </tr>\n",
       "  </tbody>\n",
       "</table>\n",
       "</div>"
      ],
      "text/plain": [
       "         Date  Total_Consumption  Predicted_Consumption        MAE\n",
       "0  2021-05-09               44.1              28.343788  15.756212\n",
       "1  2021-05-10               48.3              59.778455 -11.478455\n",
       "2  2021-05-11               37.8              41.435079  -3.635079\n",
       "3  2021-05-13               41.7              40.993073   0.706927\n",
       "4  2021-05-14               37.8              40.834960  -3.034960"
      ]
     },
     "execution_count": 19,
     "metadata": {},
     "output_type": "execute_result"
    }
   ],
   "source": [
    "#forcasted dataset of df\n",
    "df3 = pd.read_csv(r\"D:\\Optimizing-Household-Electricity-through-Machine-Learning-main\\Datasets\\electrical_forecast.csv\")\n",
    "df3.head()"
   ]
  },
  {
   "cell_type": "code",
   "execution_count": 20,
   "id": "d47031ad-56c8-4a82-a629-9561c55a3f3f",
   "metadata": {},
   "outputs": [
    {
     "data": {
      "text/plain": [
       "(142, 4)"
      ]
     },
     "execution_count": 20,
     "metadata": {},
     "output_type": "execute_result"
    }
   ],
   "source": [
    "df3.shape"
   ]
  },
  {
   "cell_type": "code",
   "execution_count": 24,
   "id": "c82053e8-0a1f-4d09-831c-335e376e3491",
   "metadata": {},
   "outputs": [
    {
     "data": {
      "text/html": [
       "<div>\n",
       "<style scoped>\n",
       "    .dataframe tbody tr th:only-of-type {\n",
       "        vertical-align: middle;\n",
       "    }\n",
       "\n",
       "    .dataframe tbody tr th {\n",
       "        vertical-align: top;\n",
       "    }\n",
       "\n",
       "    .dataframe thead th {\n",
       "        text-align: right;\n",
       "    }\n",
       "</style>\n",
       "<table border=\"1\" class=\"dataframe\">\n",
       "  <thead>\n",
       "    <tr style=\"text-align: right;\">\n",
       "      <th></th>\n",
       "      <th>Date</th>\n",
       "      <th>Fridge</th>\n",
       "      <th>AC</th>\n",
       "      <th>Voltage</th>\n",
       "      <th>Kitchen Appliances</th>\n",
       "      <th>Other Appliances</th>\n",
       "      <th>Sub_metering_3</th>\n",
       "      <th>month</th>\n",
       "      <th>year</th>\n",
       "      <th>Total_Consumption</th>\n",
       "      <th>day</th>\n",
       "      <th>Washing Machine</th>\n",
       "      <th>kap_zscore</th>\n",
       "      <th>fridge_zscore</th>\n",
       "      <th>ac_zscore</th>\n",
       "      <th>oap_zscore</th>\n",
       "      <th>wm_zscore</th>\n",
       "    </tr>\n",
       "  </thead>\n",
       "  <tbody>\n",
       "    <tr>\n",
       "      <th>0</th>\n",
       "      <td>2021-01-01</td>\n",
       "      <td>1224.252</td>\n",
       "      <td>0.0</td>\n",
       "      <td>349294.64</td>\n",
       "      <td>3869.148</td>\n",
       "      <td>327.0</td>\n",
       "      <td>3558.0</td>\n",
       "      <td>1</td>\n",
       "      <td>2020</td>\n",
       "      <td>7.7</td>\n",
       "      <td>1</td>\n",
       "      <td>2304.0</td>\n",
       "      <td>NaN</td>\n",
       "      <td>NaN</td>\n",
       "      <td>NaN</td>\n",
       "      <td>NaN</td>\n",
       "      <td>NaN</td>\n",
       "    </tr>\n",
       "    <tr>\n",
       "      <th>1</th>\n",
       "      <td>2021-01-02</td>\n",
       "      <td>1693.778</td>\n",
       "      <td>0.0</td>\n",
       "      <td>350829.71</td>\n",
       "      <td>5301.422</td>\n",
       "      <td>367.0</td>\n",
       "      <td>14623.0</td>\n",
       "      <td>1</td>\n",
       "      <td>2020</td>\n",
       "      <td>8.5</td>\n",
       "      <td>2</td>\n",
       "      <td>1111.0</td>\n",
       "      <td>NaN</td>\n",
       "      <td>NaN</td>\n",
       "      <td>NaN</td>\n",
       "      <td>NaN</td>\n",
       "      <td>NaN</td>\n",
       "    </tr>\n",
       "    <tr>\n",
       "      <th>2</th>\n",
       "      <td>2021-01-03</td>\n",
       "      <td>1298.728</td>\n",
       "      <td>0.0</td>\n",
       "      <td>348224.80</td>\n",
       "      <td>4112.472</td>\n",
       "      <td>471.0</td>\n",
       "      <td>7115.0</td>\n",
       "      <td>1</td>\n",
       "      <td>2020</td>\n",
       "      <td>7.7</td>\n",
       "      <td>3</td>\n",
       "      <td>1785.0</td>\n",
       "      <td>NaN</td>\n",
       "      <td>NaN</td>\n",
       "      <td>NaN</td>\n",
       "      <td>NaN</td>\n",
       "      <td>NaN</td>\n",
       "    </tr>\n",
       "    <tr>\n",
       "      <th>3</th>\n",
       "      <td>2021-01-04</td>\n",
       "      <td>1687.440</td>\n",
       "      <td>0.0</td>\n",
       "      <td>348125.99</td>\n",
       "      <td>5338.360</td>\n",
       "      <td>517.0</td>\n",
       "      <td>14393.0</td>\n",
       "      <td>1</td>\n",
       "      <td>2020</td>\n",
       "      <td>9.3</td>\n",
       "      <td>4</td>\n",
       "      <td>1780.0</td>\n",
       "      <td>NaN</td>\n",
       "      <td>NaN</td>\n",
       "      <td>NaN</td>\n",
       "      <td>NaN</td>\n",
       "      <td>0.095548</td>\n",
       "    </tr>\n",
       "    <tr>\n",
       "      <th>4</th>\n",
       "      <td>2021-01-05</td>\n",
       "      <td>1320.158</td>\n",
       "      <td>0.0</td>\n",
       "      <td>346531.92</td>\n",
       "      <td>4338.842</td>\n",
       "      <td>4885.0</td>\n",
       "      <td>6751.0</td>\n",
       "      <td>1</td>\n",
       "      <td>2020</td>\n",
       "      <td>12.5</td>\n",
       "      <td>5</td>\n",
       "      <td>1984.0</td>\n",
       "      <td>NaN</td>\n",
       "      <td>NaN</td>\n",
       "      <td>NaN</td>\n",
       "      <td>NaN</td>\n",
       "      <td>1.343633</td>\n",
       "    </tr>\n",
       "  </tbody>\n",
       "</table>\n",
       "</div>"
      ],
      "text/plain": [
       "        Date    Fridge   AC    Voltage  Kitchen Appliances  Other Appliances  \\\n",
       "0 2021-01-01  1224.252  0.0  349294.64            3869.148             327.0   \n",
       "1 2021-01-02  1693.778  0.0  350829.71            5301.422             367.0   \n",
       "2 2021-01-03  1298.728  0.0  348224.80            4112.472             471.0   \n",
       "3 2021-01-04  1687.440  0.0  348125.99            5338.360             517.0   \n",
       "4 2021-01-05  1320.158  0.0  346531.92            4338.842            4885.0   \n",
       "\n",
       "   Sub_metering_3  month  year  Total_Consumption  day  Washing Machine  \\\n",
       "0          3558.0      1  2020                7.7    1           2304.0   \n",
       "1         14623.0      1  2020                8.5    2           1111.0   \n",
       "2          7115.0      1  2020                7.7    3           1785.0   \n",
       "3         14393.0      1  2020                9.3    4           1780.0   \n",
       "4          6751.0      1  2020               12.5    5           1984.0   \n",
       "\n",
       "   kap_zscore  fridge_zscore  ac_zscore  oap_zscore  wm_zscore  \n",
       "0         NaN            NaN        NaN         NaN        NaN  \n",
       "1         NaN            NaN        NaN         NaN        NaN  \n",
       "2         NaN            NaN        NaN         NaN        NaN  \n",
       "3         NaN            NaN        NaN         NaN   0.095548  \n",
       "4         NaN            NaN        NaN         NaN   1.343633  "
      ]
     },
     "execution_count": 24,
     "metadata": {},
     "output_type": "execute_result"
    }
   ],
   "source": [
    "#for anomaly detection\n",
    "df4 = pd.read_csv(r\"D:\\Optimizing-Household-Electricity-through-Machine-Learning-main\\Datasets\\electricity_appliance_wise_data.csv\")\n",
    "df4['Date'] = pd.to_datetime(df4['Date'])\n",
    "df4.head()"
   ]
  },
  {
   "cell_type": "code",
   "execution_count": 25,
   "id": "88df258d-30a6-4191-aa9c-f801932a0da0",
   "metadata": {},
   "outputs": [
    {
     "data": {
      "text/plain": [
       "(203, 17)"
      ]
     },
     "execution_count": 25,
     "metadata": {},
     "output_type": "execute_result"
    }
   ],
   "source": [
    "df4.shape"
   ]
  },
  {
   "cell_type": "code",
   "execution_count": 26,
   "id": "98b9b0ce-4b87-4a08-9001-cc2aac46ad2d",
   "metadata": {},
   "outputs": [],
   "source": [
    "df4 = df4[df4['Date'].dt.year == 2021]\n",
    "df4.reset_index(drop=True, inplace=True)"
   ]
  },
  {
   "cell_type": "code",
   "execution_count": 27,
   "id": "20dbcb38-df61-43c9-a1ae-27c1460ccd79",
   "metadata": {},
   "outputs": [
    {
     "data": {
      "text/plain": [
       "(203, 17)"
      ]
     },
     "execution_count": 27,
     "metadata": {},
     "output_type": "execute_result"
    }
   ],
   "source": [
    "df4.shape"
   ]
  },
  {
   "cell_type": "code",
   "execution_count": null,
   "id": "cbf399a1-fcd5-4c5a-a0ae-46f1ad8e9927",
   "metadata": {},
   "outputs": [],
   "source": []
  }
 ],
 "metadata": {
  "kernelspec": {
   "display_name": "Python 3 (ipykernel)",
   "language": "python",
   "name": "python3"
  },
  "language_info": {
   "codemirror_mode": {
    "name": "ipython",
    "version": 3
   },
   "file_extension": ".py",
   "mimetype": "text/x-python",
   "name": "python",
   "nbconvert_exporter": "python",
   "pygments_lexer": "ipython3",
   "version": "3.11.3"
  }
 },
 "nbformat": 4,
 "nbformat_minor": 5
}
